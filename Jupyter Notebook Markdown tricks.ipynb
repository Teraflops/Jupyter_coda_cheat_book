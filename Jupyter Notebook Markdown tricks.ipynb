{
 "cells": [
  {
   "cell_type": "markdown",
   "metadata": {},
   "source": [
    "Just by clicking each cell you can find out what's working under the hood"
   ]
  },
  {
   "cell_type": "markdown",
   "metadata": {},
   "source": [
    "Tip #1: Different ways of creating Header, you've to select markdown in the cell\n",
    "\n",
    "# Header\n",
    "## Header\n",
    "### Header"
   ]
  },
  {
   "cell_type": "markdown",
   "metadata": {},
   "source": [
    "Tip #2:  You can pass links in the notebook as [Google's home page](https://google.com)"
   ]
  },
  {
   "cell_type": "markdown",
   "metadata": {},
   "source": [
    "Tip#3: Using a ** or _ before and after a word make it *Italics ,  _Italics_"
   ]
  },
  {
   "cell_type": "markdown",
   "metadata": {},
   "source": [
    "Tip#4: [LaTeX](https://www.latex-project.org/get/) is used to write Maths functions and formulae in Notebook.It uses MathJax to render the LaTeX symbols as math symbols. A good article to do Hands on LaTeX is [here](http://data-blog.udacity.com/posts/2016/10/latex-primer/). If you know the symbol but don't know the command to make it appear on the Notebook try [Detexify](http://detexify.kirelabs.org/classify.html)\n",
    "\n",
    "$y = mx + b$\n",
    "\n",
    "$$\n",
    "e^x = \\sum_{n=0}^{infty}\\frac{x^n}{x!}\n",
    "$$"
   ]
  },
  {
   "cell_type": "code",
   "execution_count": null,
   "metadata": {
    "collapsed": true
   },
   "outputs": [],
   "source": []
  }
 ],
 "metadata": {
  "kernelspec": {
   "display_name": "Python [Root]",
   "language": "python",
   "name": "Python [Root]"
  },
  "language_info": {
   "codemirror_mode": {
    "name": "ipython",
    "version": 3
   },
   "file_extension": ".py",
   "mimetype": "text/x-python",
   "name": "python",
   "nbconvert_exporter": "python",
   "pygments_lexer": "ipython3",
   "version": "3.5.2"
  }
 },
 "nbformat": 4,
 "nbformat_minor": 0
}
